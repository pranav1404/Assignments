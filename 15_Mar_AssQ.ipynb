{
 "cells": [
  {
   "cell_type": "markdown",
   "id": "92ab43ac-ae14-4a3c-b9ee-1cec64ca4baf",
   "metadata": {},
   "source": [
    "### Q1: Explain the following with an example: a) Artificial Intelligence b) Machine Learningc) Deep Learning"
   ]
  },
  {
   "cell_type": "markdown",
   "id": "8b3b0352-41f3-48fe-82e3-d5ce8bb424f5",
   "metadata": {},
   "source": [
    "\tArtificial Intelligence (AI) refers to the simulation of human intelligence in machines that are programmed to think and learn like humans. AI enables machines to perform tasks that typically require human intelligence, such as problem-solving, decision-making, natural language understanding, and image recognition.\n",
    "\n",
    "\tExample: One example of AI is a virtual personal assistant like Amazon's Alexa or Apple's Siri.\n",
    "\t\n",
    "\tMachine Learning (ML) is a subset of AI that focuses on the development of algorithms and models that enable machines to learn from data and make predictions or decisions without being explicitly programmed. \n",
    "\n",
    "\tExample: An example of ML is spam email detection.\n",
    "    \n",
    "    Deep Learning is a subfield of machine learning that involves building and training artificial neural networks with multiple layers \n",
    "    \n",
    "    Example: A popular example of deep learning is image classification using convolutional neural networks"
   ]
  },
  {
   "cell_type": "markdown",
   "id": "0b1aab57-bfcc-4a80-93c9-7497530c8060",
   "metadata": {},
   "source": [
    "### Q2: What is supervised learning? List some examples of supervised learning."
   ]
  },
  {
   "cell_type": "markdown",
   "id": "0158ffe9-cb1c-4a55-814b-e2a5ac9a451a",
   "metadata": {},
   "source": [
    "\tSupervised learning is a machine learning approach in which a model is trained on labeled data, where the input features and their corresponding output labels are provided.\n",
    "    Examples of supervised learning include spam email detection, image classification, sentiment analysis, predicting housing prices, and object detection."
   ]
  },
  {
   "cell_type": "markdown",
   "id": "d3e6ac08-0027-4b0a-acf6-1df7c0b239b7",
   "metadata": {},
   "source": [
    "### Q3: What is unsupervised learning? List some examples of unsupervised learning."
   ]
  },
  {
   "cell_type": "markdown",
   "id": "32b4f167-ed42-4da2-bef3-8841861562d4",
   "metadata": {},
   "source": [
    "\tUnsupervised learning involves discovering patterns and relationships in unlabeled data, such as clustering similar data points or reducing data dimensionality. \n",
    "    Examples include customer segmentation, document clustering, and anomaly detection."
   ]
  },
  {
   "cell_type": "markdown",
   "id": "6bf8b8bb-c73b-4a2a-8aff-35d1a4441f10",
   "metadata": {},
   "source": [
    "### Q4: What is the difference between Al, ML, DL, and DS?\n"
   ]
  },
  {
   "cell_type": "markdown",
   "id": "38283b39-12fb-4b73-a93b-54f4717376b0",
   "metadata": {},
   "source": [
    "\tAI (Artificial Intelligence) is a broad field that encompasses the development of intelligent systems that can perform tasks that typically require human intelligence, such as problem-solving, decision-making, and learning.\n",
    "\n",
    "\tML (Machine Learning) is a subset of AI that focuses on the development of algorithms and models that allow computers to learn from data and make predictions or decisions without being explicitly programmed. ML algorithms can automatically learn and improve from experience, uncover patterns in data, and make accurate predictions.\n",
    "\n",
    "\tDL (Deep Learning) is a subfield of ML that involves building and training artificial neural networks with multiple layers (deep networks) to automatically learn hierarchical representations of data. Deep learning has achieved significant success in areas such as image and speech recognition, natural language processing, and computer vision.\n",
    "\n",
    "\tDS (Data Science) is a multidisciplinary field that combines elements of AI, ML, and statistical analysis to extract insights and knowledge from data. Data scientists use techniques from ML and statistical modeling to analyze and interpret complex data, make predictions, and drive decision-making."
   ]
  },
  {
   "cell_type": "markdown",
   "id": "ec5cd539-801e-44f9-a809-1cb4c0caee92",
   "metadata": {},
   "source": [
    "### Q5: What are the main differences between supervised, unsupervised, and semi-supervised learning?"
   ]
  },
  {
   "cell_type": "markdown",
   "id": "7db1cfcd-8155-4bdf-a86b-6f3c7f0dfe55",
   "metadata": {},
   "source": [
    "Learning Type         Definition                                               Examples\n",
    "Supervised Learning   Learning from labeled data, where input features and     Image classification, sentiment analysis, regression, spam detection\n",
    "                       their corresponding output labels are provided.\n",
    "Unsupervised Learning Learning from unlabeled data, discovering patterns       Clustering, dimensionality reduction, anomaly detection, market segmentation\n",
    "                       and relationships without explicit output labels.\n",
    "Semi-Supervised       Learning from a combination of labeled and unlabeled     Text classification with limited labeled data, fraud detection with few known cases\n",
    "Learning               data, leveraging both labeled information and\n",
    "                       unlabeled patterns.\n"
   ]
  },
  {
   "cell_type": "markdown",
   "id": "696da3df-4cdd-4ffb-863a-0495e73b5366",
   "metadata": {},
   "source": [
    "### Q6: What is train, test and validation split? Explain the importance of each term."
   ]
  },
  {
   "cell_type": "markdown",
   "id": "cefff413-33ed-46b8-8b61-6ef7d3e8fe6f",
   "metadata": {},
   "source": [
    "\tTrain set: Used to train the machine learning model by providing input features and corresponding output labels.\n",
    "\tTest set: Used to evaluate the model's performance and assess its ability to make predictions on unseen data.\n",
    "\tValidation set: Optional subset used for fine-tuning the model and selecting optimal hyperparameters during training."
   ]
  },
  {
   "cell_type": "markdown",
   "id": "9e36fd1e-fb92-42c7-8ef6-1fa108da1314",
   "metadata": {},
   "source": [
    "### Q7: How can unsupervised learning be used in anomaly detection?\n"
   ]
  },
  {
   "cell_type": "markdown",
   "id": "8ce825c8-fd74-4cfd-b447-09f7583fa3bc",
   "metadata": {},
   "source": [
    "    Unsupervised learning can be used in anomaly detection by identifying patterns and structures in unlabeled data and detecting deviations or outliers from those patterns. The general approach involves training an unsupervised learning algorithm on a dataset that contains mostly normal or regular data samples. The algorithm learns the underlying patterns and structures of the normal data, allowing it to identify data points that significantly deviate from those patterns as potential anomalies."
   ]
  },
  {
   "cell_type": "markdown",
   "id": "9500e9f4-ea4c-462d-b51d-4f8367d27a1c",
   "metadata": {},
   "source": [
    "### Q8: List down some commonly used supervised learning algorithms and unsupervised learning algorithms."
   ]
  },
  {
   "cell_type": "markdown",
   "id": "42dbeb2d-89c2-4f2e-8227-eddd005e6966",
   "metadata": {},
   "source": [
    "\tCommonly used supervised learning algorithms:\n",
    "    1.Linear Regression\n",
    "    2.Logistic Regression\n",
    "    3.Decision Trees\n",
    "    4.Random Forests\n",
    "    5.Support Vector Machines (SVM)\n",
    "    6.Naive Bayes\n",
    "    7.K-Nearest Neighbors (KNN)\n",
    "    8.Neural Networks (Deep Learning)\n",
    "    \n",
    "\tCommonly used unsupervised learning algorithms:\n",
    "    1.K-Means Clustering\n",
    "    2.Hierarchical Clustering\n",
    "    3.DBSCAN (Density-Based Spatial Clustering of Applications with Noise)\n",
    "    4.Gaussian Mixture Models (GMM)\n",
    "    5.Principal Component Analysis (PCA)\n",
    "    6.Anomaly Detection Algorithms (e.g., One-Class SVM, Isolation Forest)\n",
    "    7.Association Rule Learning (e.g., Apriori algorithm)\n",
    "    8.Self-Organizing Maps (SOM)\n",
    "    9.t-SNE (t-Distributed Stochastic Neighbor Embedding)"
   ]
  },
  {
   "cell_type": "code",
   "execution_count": null,
   "id": "fa47cb4f-a6a9-45c7-8c74-f2040d00e25e",
   "metadata": {},
   "outputs": [],
   "source": []
  }
 ],
 "metadata": {
  "kernelspec": {
   "display_name": "Python 3 (ipykernel)",
   "language": "python",
   "name": "python3"
  },
  "language_info": {
   "codemirror_mode": {
    "name": "ipython",
    "version": 3
   },
   "file_extension": ".py",
   "mimetype": "text/x-python",
   "name": "python",
   "nbconvert_exporter": "python",
   "pygments_lexer": "ipython3",
   "version": "3.10.8"
  }
 },
 "nbformat": 4,
 "nbformat_minor": 5
}
