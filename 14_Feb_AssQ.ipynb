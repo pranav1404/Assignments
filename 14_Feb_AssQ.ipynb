{
 "cells": [
  {
   "cell_type": "markdown",
   "id": "581322b4-1ec6-4592-a55c-0921d3f9fccd",
   "metadata": {},
   "source": [
    "### Q1. What is multithreading in python? Why is it used? Name the module used to handle threads in python"
   ]
  },
  {
   "cell_type": "markdown",
   "id": "dfde2f95-f424-4f56-9760-5e9e7767b2c5",
   "metadata": {},
   "source": [
    "    Multithreading in Python refers to the ability to execute multiple threads concurrently within a single process. Each thread represents an independent sequence of instructions that can run simultaneously with other threads, sharing the same resources and memory space.\n",
    "    \n",
    "    Multithreading is used in Python and other programming languages to achieve concurrent execution, improve performance, and enhance responsiveness in applications.\n",
    "    \n",
    "    In Python, the threading module is used to handle threads. It provides a high-level interface for creating and managing threads. "
   ]
  },
  {
   "cell_type": "markdown",
   "id": "69156412-1f55-4e19-85c9-c587abf831d4",
   "metadata": {},
   "source": [
    "### Q2. Why threading module used? Write the use of the following functions"
   ]
  },
  {
   "cell_type": "markdown",
   "id": "c3572b09-7a6b-4a17-890c-400d3a02030f",
   "metadata": {},
   "source": [
    "    The threading module in Python is used to handle threads, which are independent units of execution that can run concurrently within a single process. The threading module provides a high-level interface for creating, managing, and synchronizing threads in Python.\n",
    "    \n",
    "    Here are some commonly used functions and their uses from the threading module:\n",
    "    \n",
    "    1. activeCount(): The activeCount() function returns the number of Thread objects currently alive.It is used to retrieve the count of active threads in the current program.\n",
    "    \n",
    "    2. The currentThread() function returns the Thread object representing the current thread that calls it. It allows you to access and manipulate the properties of the current thread.\n",
    "    \n",
    "    3. enumerate(): The enumerate() function returns a list of all active Thread objects currently alive. It is useful for retrieving a list of all running threads."
   ]
  },
  {
   "cell_type": "markdown",
   "id": "a53824ef-1311-46b4-a9d1-a20a3bed561d",
   "metadata": {},
   "source": [
    "### Q3. Explain the following functions:\n",
    "1. run()\n",
    "2. start()\n",
    "3. join()\n",
    "4. isAlive()"
   ]
  },
  {
   "cell_type": "markdown",
   "id": "3cb1fce8-9281-48ca-b680-d947049eff6d",
   "metadata": {},
   "source": [
    "    1. run(): The run() method is a fundamental method in the Thread class. It represents the entry point for the execution of a thread. You can override this method in a subclass to define the specific behavior or task that the thread should perform. When you call the start() method on a Thread object, it internally invokes the run() method, which executes the custom logic defined in the subclass.\n",
    "    \n",
    "    2. start(): The start() method is used to start the execution of a thread. It initializes and launches a new thread, invoking the run() method of the Thread object.\n",
    "    \n",
    "    3.join(): The join() method is used to wait for a thread to complete its execution. When join() is called on a Thread object, the calling thread blocks until the target thread finishes. \n",
    "    \n",
    "    4. isAlive(): The isAlive() method is used to check if a thread is currently running or alive. It returns True if the thread is active and running, and False otherwise."
   ]
  },
  {
   "cell_type": "markdown",
   "id": "ca7c0762-0f18-4278-87b1-d3a9cfd062d4",
   "metadata": {},
   "source": [
    "### Q4. Write a python program to create two threads. Thread one must print the list of squares and thread two must print the list of cubes."
   ]
  },
  {
   "cell_type": "code",
   "execution_count": 1,
   "id": "6d88c420-f33d-405c-bc3f-341aafe993c4",
   "metadata": {},
   "outputs": [
    {
     "name": "stdout",
     "output_type": "stream",
     "text": [
      "Square of 1: 1\n",
      "Square of 2: 4\n",
      "Square of 3: 9\n",
      "Square of 4: 16\n",
      "Square of 5: 25\n",
      "Square of 6: 36\n",
      "Square of 7: 49\n",
      "Square of 8: 64\n",
      "Square of 9: 81\n",
      "Square of 10: 100\n",
      "Cube of 1: 1\n",
      "Cube of 2: 8\n",
      "Cube of 3: 27\n",
      "Cube of 4: 64\n",
      "Cube of 5: 125\n",
      "Cube of 6: 216\n",
      "Cube of 7: 343\n",
      "Cube of 8: 512\n",
      "Cube of 9: 729\n",
      "Cube of 10: 1000\n",
      "Main thread exiting\n"
     ]
    }
   ],
   "source": [
    "import threading\n",
    "\n",
    "def print_squares():\n",
    "    for i in range(1, 11):\n",
    "        print(f\"Square of {i}: {i**2}\")\n",
    "\n",
    "def print_cubes():\n",
    "    for i in range(1, 11):\n",
    "        print(f\"Cube of {i}: {i**3}\")\n",
    "\n",
    "thread1 = threading.Thread(target=print_squares)\n",
    "\n",
    "thread2 = threading.Thread(target=print_cubes)\n",
    "\n",
    "thread1.start()\n",
    "thread2.start()\n",
    "\n",
    "thread1.join()\n",
    "thread2.join()\n",
    "\n",
    "print(\"Main thread exiting\")\n"
   ]
  },
  {
   "cell_type": "markdown",
   "id": "f6dd4553-3d74-4c5a-9c29-a233fcfd1469",
   "metadata": {},
   "source": [
    "### Q5. State advantages and disadvantages of multithreading."
   ]
  },
  {
   "cell_type": "markdown",
   "id": "f12a4f21-1c4c-4c01-a9db-fd82c51a8604",
   "metadata": {},
   "source": [
    "\tAdvantages of Multithreading:\n",
    "\n",
    "        Concurrency and parallelism\n",
    "        Improved performance for CPU-bound and I/O-bound tasks\n",
    "        Enhanced responsiveness and user experience\n",
    "        Efficient resource utilization\n",
    "        Resource sharing and communication between threads\n",
    "        \n",
    "    Disadvantages of Multithreading\n",
    "\n",
    "        Complexity and difficulty in debugging\n",
    "        Increased potential for race conditions and synchronization issues\n",
    "        Overhead and increased memory usage\n",
    "        Limited scalability on certain hardware and architectures\n",
    "        Difficulty in achieving true parallelism due to Python's Global Interpreter Lock (GIL)"
   ]
  },
  {
   "cell_type": "code",
   "execution_count": null,
   "id": "421c59c8-f0a0-4080-84c9-90c31d645e1a",
   "metadata": {},
   "outputs": [],
   "source": [
    "Q6. Explain deadlocks and race conditions."
   ]
  }
 ],
 "metadata": {
  "kernelspec": {
   "display_name": "Python 3 (ipykernel)",
   "language": "python",
   "name": "python3"
  },
  "language_info": {
   "codemirror_mode": {
    "name": "ipython",
    "version": 3
   },
   "file_extension": ".py",
   "mimetype": "text/x-python",
   "name": "python",
   "nbconvert_exporter": "python",
   "pygments_lexer": "ipython3",
   "version": "3.10.8"
  }
 },
 "nbformat": 4,
 "nbformat_minor": 5
}
