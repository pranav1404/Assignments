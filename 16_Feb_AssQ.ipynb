{
 "cells": [
  {
   "cell_type": "markdown",
   "id": "7ac7d107-cbc5-4961-b085-a607869aa064",
   "metadata": {},
   "source": [
    "### Q1. What is a database? Differentiate between SQL and NoSQL databases."
   ]
  },
  {
   "cell_type": "markdown",
   "id": "8c08673e-234b-471f-9991-ef49dffbcb8f",
   "metadata": {},
   "source": [
    "        Database: A database is a structured collection of data that is organized, stored, and managed in a way that allows for efficient retrieval, modification, and querying\n",
    "        \n",
    "        SQL (Relational) Databases:\n",
    "\n",
    "            1.SQL (Structured Query Language) databases are based on the relational model and use structured tables to store and organize data.\n",
    "            2.They have a predefined schema that defines the structure and relationships between tables.\n",
    "            3.Data is stored in rows and columns, and tables are related through primary and foreign key constraints.\n",
    "            4.SQL databases provide ACID (Atomicity, Consistency, Isolation, Durability) properties, ensuring data integrity and reliability.\n",
    "            Examples of SQL databases include MySQL, PostgreSQL, Oracle Database, and SQL Server.\n",
    "        \n",
    "        NoSQL (Non-Relational) Databases:\n",
    "\n",
    "\t\t\t1.NoSQL databases are designed for storing and retrieving large volumes of unstructured and semi-structured data.\n",
    "            2.They do not adhere to a rigid schema and allow for flexible and dynamic data models.\n",
    "            3.NoSQL databases use various data models like key-value, document, columnar, and graph to organize and store data.\n",
    "            4.They offer horizontal scalability, high availability, and high performance for handling big data and distributed systems.\n",
    "            5.NoSQL databases sacrifice some of the traditional ACID properties in favor of scalability and flexibility.\n",
    "            Examples of NoSQL databases include MongoDB, Cassandra, Redis, Couchbase, and Neo4j.\n"
   ]
  },
  {
   "cell_type": "markdown",
   "id": "72967d5f-d36a-4c83-b321-c6d9e20752fb",
   "metadata": {},
   "source": [
    "### Q2. What is DDL? Explain why CREATE, DROP, ALTER, and TRUNCATE are used with an example."
   ]
  },
  {
   "cell_type": "markdown",
   "id": "7acceea1-f0e9-4768-b300-4cd7decbab0e",
   "metadata": {},
   "source": [
    "\tDDL (Data Definition Language) is a subset of SQL (Structured Query Language) that is used to define and manage the structure of a database and its objects. It consists of a set of commands used to create, modify, and delete database objects. \n",
    "    \n",
    "\t1.CREATE: The CREATE command is used to create a new database object, such as a table, index, or view. \n",
    "\t\t\tExample: CREATE TABLE employees (\n",
    "                            id INT,\n",
    "                            name VARCHAR(50),\n",
    "                            age INT\n",
    "                        );\n",
    "                        \n",
    "    2.DROP: The DROP command is used to remove an existing database object. It permanently deletes the object from the  database. \n",
    "    \t\tExample:  DROP TABLE employees;\n",
    "            \n",
    "\t3.ALTER: The ALTER command is used to modify the structure of an existing database object. It allows you to add, modify, or delete columns, constraints, or other properties of the object. \n",
    "    \t\tExample: ALTER TABLE employees ADD COLUMN salary DECIMAL(10,2);\n",
    "\n",
    "\t4.TRUNCATE: The TRUNCATE command is used to remove all data from a table, but keeps the table structure intact. It is faster than using the DELETE command to delete all rows. \n",
    "    \t\tRxample:TRUNCATE TABLE employees;"
   ]
  },
  {
   "cell_type": "markdown",
   "id": "065b2ebe-47d2-4882-9f29-850eb0000c14",
   "metadata": {},
   "source": [
    "### Q3. What is DML? Explain INSERT, UPDATE, and DELETE with an example."
   ]
  },
  {
   "cell_type": "markdown",
   "id": "186123ea-20b1-4ab9-ad6a-ca3770dc7f2d",
   "metadata": {},
   "source": [
    "    DML (Data Manipulation Language) is a subset of SQL (Structured Query Language) used to manipulate data stored in a database. It consists of commands that allow you to insert, update, and delete data within tables\n",
    "    \n",
    "    1.INSERT: The INSERT command is used to insert new rows of data into a table. You specify the table name and provide the values for each column in the row being inserted. \n",
    "    \tExample: INSERT INTO employees (id, name, age) VALUES (1, 'John', 30);\n",
    "        \n",
    "    2.UPDATE: The UPDATE command is used to modify existing data within a table. You specify the table name, set the new values for specific columns, and use a WHERE clause to identify the rows to be updated. \n",
    "    \tExample: UPDATE employees SET age = 35 WHERE id = 1;\n",
    "\n",
    "\t3.DELETE: The DELETE command is used to remove rows of data from a table. You specify the table name and use a WHERE clause to identify the rows to be deleted. \n",
    "    \tExample: DELETE FROM employees WHERE id = 1;\n",
    "\n"
   ]
  },
  {
   "cell_type": "markdown",
   "id": "bec8ea8e-8391-460b-a2ab-0a7adec98453",
   "metadata": {},
   "source": [
    "### Q4. What is DQL? Explain SELECT with an example."
   ]
  },
  {
   "cell_type": "markdown",
   "id": "def7f007-742b-40e8-8ef0-e06e31b25b99",
   "metadata": {},
   "source": [
    "\tDQL (Data Query Language) is a subset of SQL (Structured Query Language) used for querying and retrieving data from a database. It primarily consists of the SELECT command, which allows you to retrieve specific data from one or more database tables.\n",
    "    \n",
    "    SELECT: The SELECT command is used to retrieve data from one or more tables in a database. \n",
    "    \tExample: SELECT name, salary FROM employees WHERE age > 30;\n"
   ]
  },
  {
   "cell_type": "markdown",
   "id": "57f96007-bf02-45a8-ae52-740ce15084a6",
   "metadata": {},
   "source": [
    "### Q5. Explain Primary Key and Foreign Key."
   ]
  },
  {
   "cell_type": "markdown",
   "id": "a3b54fea-de2d-4e86-93a3-efa41eee908d",
   "metadata": {},
   "source": [
    "\tPrimary Key: Unique identifier for each row in a table.\n",
    "\tForeign Key: Establishes relationships between tables based on primary key references."
   ]
  },
  {
   "cell_type": "markdown",
   "id": "250ad5fe-0f3e-4f2b-b4a6-6d3b8ddbb2da",
   "metadata": {},
   "source": [
    "### Q6. Write a python code to connect MySQL to python. Explain the cursor() and execute() method."
   ]
  },
  {
   "cell_type": "code",
   "execution_count": null,
   "id": "e6837486-cae1-483d-8977-152caea30fdb",
   "metadata": {},
   "outputs": [],
   "source": [
    "import mysql.connector\n",
    "\n",
    "#\n",
    "connection = mysql.connector.connect(\n",
    "    host=\"localhost\",\n",
    "    user=\"your_username\",\n",
    "    password=\"your_password\",\n",
    "    database=\"your_database\"\n",
    ")\n",
    "\n",
    "# Creating a cursor object\n",
    "cursor = connection.cursor()\n",
    "\n",
    "# Executing SQL queries using the execute() method\n",
    "cursor.execute(\"SELECT * FROM your_table\")\n",
    "\n",
    "# Fetching the results\n",
    "results = cursor.fetchall()\n",
    "\n",
    "# Printing the results\n",
    "for row in results:\n",
    "    print(row)\n",
    "\n",
    "# Closing the cursor and the connection\n",
    "cursor.close()\n",
    "connection.close()\n"
   ]
  }
 ],
 "metadata": {
  "kernelspec": {
   "display_name": "Python 3 (ipykernel)",
   "language": "python",
   "name": "python3"
  },
  "language_info": {
   "codemirror_mode": {
    "name": "ipython",
    "version": 3
   },
   "file_extension": ".py",
   "mimetype": "text/x-python",
   "name": "python",
   "nbconvert_exporter": "python",
   "pygments_lexer": "ipython3",
   "version": "3.10.8"
  }
 },
 "nbformat": 4,
 "nbformat_minor": 5
}
