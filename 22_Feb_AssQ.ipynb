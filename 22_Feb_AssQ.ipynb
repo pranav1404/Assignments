{
 "cells": [
  {
   "cell_type": "code",
   "execution_count": 1,
   "metadata": {},
   "outputs": [],
   "source": [
    "from selenium import webdriver\n",
    "from bs4 import BeautifulSoup as bs\n",
    "import pandas"
   ]
  },
  {
   "cell_type": "code",
   "execution_count": 2,
   "metadata": {},
   "outputs": [],
   "source": [
    "driver = webdriver.Chrome(executable_path='C:/Users/pkoma/Downloads/chromedriver.exe')"
   ]
  },
  {
   "cell_type": "code",
   "execution_count": 3,
   "metadata": {},
   "outputs": [],
   "source": [
    "url = \"https://www.youtube.com/@PW-Foundation/videos\"\n",
    "driver.get(url)"
   ]
  },
  {
   "cell_type": "code",
   "execution_count": 4,
   "metadata": {},
   "outputs": [],
   "source": [
    "soup = bs(driver.page_source, 'html.parser')"
   ]
  },
  {
   "cell_type": "code",
   "execution_count": 5,
   "metadata": {},
   "outputs": [],
   "source": [
    "contents_divs = soup.find_all(\"a\", {\"id\": \"video-title-link\",\n",
    "                                    \"class\": \"yt-simple-endpoint focus-on-expand style-scope ytd-rich-grid-media\"})\n",
    "vedio_url = []\n",
    "vedio_title = []\n",
    "for i in contents_divs:\n",
    "    vedio_url.append(\"https://www.youtube.com\" + i['href'])\n",
    "    vedio_title.append(i['title'])\n",
    "\n",
    "vedio_url = vedio_url[0:5]\n",
    "vedio_title = vedio_title[0:5]"
   ]
  },
  {
   "cell_type": "code",
   "execution_count": 6,
   "metadata": {},
   "outputs": [],
   "source": [
    "contents_divs = soup.find_all(\"img\", {\"class\": \"yt-core-image--fill-parent-height yt-core-image--fill-parent-width yt-core-image yt-core-image--content-mode-scale-aspect-fill yt-core-image--loaded\"})\n",
    "\n",
    "video_thumbnail = []\n",
    "for i in contents_divs:\n",
    "    video_thumbnail.append(i[\"src\"])\n",
    "while(len(video_thumbnail)!=5):\n",
    "    video_thumbnail.append(\"no img\")\n",
    "    "
   ]
  },
  {
   "cell_type": "code",
   "execution_count": 7,
   "metadata": {},
   "outputs": [],
   "source": [
    "contents_divs = soup.find_all(\"div\", {\"id\": \"metadata-line\", \"class\": \"style-scope ytd-video-meta-block\"})\n",
    "views = []\n",
    "for i in contents_divs:\n",
    "    views.append(i.text)\n",
    "\n",
    "video_views = []\n",
    "video_time = []\n",
    "for i in range(0, 5):\n",
    "    video_views.append(views[i].split(\"\\n\")[3])\n",
    "    video_time.append(views[i].split(\"\\n\")[4])"
   ]
  },
  {
   "cell_type": "code",
   "execution_count": 8,
   "metadata": {},
   "outputs": [
    {
     "name": "stdout",
     "output_type": "stream",
     "text": [
      "['https://www.youtube.com/watch?v=2dn7XMxRtPE', 'https://www.youtube.com/watch?v=Fks4dVnTb5M', 'https://www.youtube.com/watch?v=nIuGXeISbSo', 'https://www.youtube.com/watch?v=p9pqo970kjw', 'https://www.youtube.com/watch?v=L5G-0FbyAsc']\n",
      "['Arjuna JEE v/s Arjuna NEET 🏏- Class 11th Faculties ka Cricket Match 🔥', 'How to Study Zoology in Class 11th? Ab Saare Doubts Solve Honge !! 🔥', 'BIGGEST OFFER For Class - 8th ,9th & 10th Students \\U0001f929 || Grab This Opportunity Now 🔥', 'Launching PW प्रयोगशाला 2.0 🔥 || The Unbeatable is Loading...', 'UDAAN Hindi Batch 🔥| Class 10th वालों के बच्चें के लिए Surprises 🎉🎉 #3SaalLajawaab']\n",
      "['42K views', '7.9K views', '32K views', '29K views', '13K views']\n",
      "['16 hours ago', '9 days ago', '9 days ago', '10 days ago', '10 days ago']\n",
      "['https://i.ytimg.com/vi/2dn7XMxRtPE/hqdefault.jpg?sqp=-oaymwEcCNACELwBSFfyq4qpAw4IARUAAIhCGAFwAcABBg==&rs=AOn4CLC152hrLuMBbo_gbFCk8UpOI-epdg', 'https://i.ytimg.com/vi/Fks4dVnTb5M/hqdefault.jpg?sqp=-oaymwEcCNACELwBSFfyq4qpAw4IARUAAIhCGAFwAcABBg==&rs=AOn4CLBj-VZonhTFUPN210ylCtixDbNjPQ', 'https://i.ytimg.com/vi/nIuGXeISbSo/hqdefault.jpg?sqp=-oaymwEcCNACELwBSFfyq4qpAw4IARUAAIhCGAFwAcABBg==&rs=AOn4CLBkVvsQsbDyEbr5HI6TI628Zi5C2Q', 'no img', 'no img']\n"
     ]
    }
   ],
   "source": [
    "print(vedio_url)\n",
    "print(vedio_title)\n",
    "print(video_views)\n",
    "print(video_time)\n",
    "print(video_thumbnail)"
   ]
  },
  {
   "cell_type": "code",
   "execution_count": 9,
   "metadata": {},
   "outputs": [
    {
     "data": {
      "text/html": [
       "<div>\n",
       "<style scoped>\n",
       "    .dataframe tbody tr th:only-of-type {\n",
       "        vertical-align: middle;\n",
       "    }\n",
       "\n",
       "    .dataframe tbody tr th {\n",
       "        vertical-align: top;\n",
       "    }\n",
       "\n",
       "    .dataframe thead th {\n",
       "        text-align: right;\n",
       "    }\n",
       "</style>\n",
       "<table border=\"1\" class=\"dataframe\">\n",
       "  <thead>\n",
       "    <tr style=\"text-align: right;\">\n",
       "      <th></th>\n",
       "      <th>Video Url</th>\n",
       "      <th>Video Thumbnail</th>\n",
       "      <th>Video Titles</th>\n",
       "      <th>Video Views</th>\n",
       "      <th>Video Upload</th>\n",
       "    </tr>\n",
       "  </thead>\n",
       "  <tbody>\n",
       "    <tr>\n",
       "      <th>0</th>\n",
       "      <td>https://www.youtube.com/watch?v=2dn7XMxRtPE</td>\n",
       "      <td>https://i.ytimg.com/vi/2dn7XMxRtPE/hqdefault.j...</td>\n",
       "      <td>Arjuna JEE v/s Arjuna NEET 🏏- Class 11th Facul...</td>\n",
       "      <td>42K views</td>\n",
       "      <td>16 hours ago</td>\n",
       "    </tr>\n",
       "    <tr>\n",
       "      <th>1</th>\n",
       "      <td>https://www.youtube.com/watch?v=Fks4dVnTb5M</td>\n",
       "      <td>https://i.ytimg.com/vi/Fks4dVnTb5M/hqdefault.j...</td>\n",
       "      <td>How to Study Zoology in Class 11th? Ab Saare D...</td>\n",
       "      <td>7.9K views</td>\n",
       "      <td>9 days ago</td>\n",
       "    </tr>\n",
       "    <tr>\n",
       "      <th>2</th>\n",
       "      <td>https://www.youtube.com/watch?v=nIuGXeISbSo</td>\n",
       "      <td>https://i.ytimg.com/vi/nIuGXeISbSo/hqdefault.j...</td>\n",
       "      <td>BIGGEST OFFER For Class - 8th ,9th &amp; 10th Stud...</td>\n",
       "      <td>32K views</td>\n",
       "      <td>9 days ago</td>\n",
       "    </tr>\n",
       "    <tr>\n",
       "      <th>3</th>\n",
       "      <td>https://www.youtube.com/watch?v=p9pqo970kjw</td>\n",
       "      <td>no img</td>\n",
       "      <td>Launching PW प्रयोगशाला 2.0 🔥 || The Unbeatabl...</td>\n",
       "      <td>29K views</td>\n",
       "      <td>10 days ago</td>\n",
       "    </tr>\n",
       "    <tr>\n",
       "      <th>4</th>\n",
       "      <td>https://www.youtube.com/watch?v=L5G-0FbyAsc</td>\n",
       "      <td>no img</td>\n",
       "      <td>UDAAN Hindi Batch 🔥| Class 10th वालों के बच्चे...</td>\n",
       "      <td>13K views</td>\n",
       "      <td>10 days ago</td>\n",
       "    </tr>\n",
       "  </tbody>\n",
       "</table>\n",
       "</div>"
      ],
      "text/plain": [
       "                                     Video Url  \\\n",
       "0  https://www.youtube.com/watch?v=2dn7XMxRtPE   \n",
       "1  https://www.youtube.com/watch?v=Fks4dVnTb5M   \n",
       "2  https://www.youtube.com/watch?v=nIuGXeISbSo   \n",
       "3  https://www.youtube.com/watch?v=p9pqo970kjw   \n",
       "4  https://www.youtube.com/watch?v=L5G-0FbyAsc   \n",
       "\n",
       "                                     Video Thumbnail  \\\n",
       "0  https://i.ytimg.com/vi/2dn7XMxRtPE/hqdefault.j...   \n",
       "1  https://i.ytimg.com/vi/Fks4dVnTb5M/hqdefault.j...   \n",
       "2  https://i.ytimg.com/vi/nIuGXeISbSo/hqdefault.j...   \n",
       "3                                             no img   \n",
       "4                                             no img   \n",
       "\n",
       "                                        Video Titles Video Views  Video Upload  \n",
       "0  Arjuna JEE v/s Arjuna NEET 🏏- Class 11th Facul...   42K views  16 hours ago  \n",
       "1  How to Study Zoology in Class 11th? Ab Saare D...  7.9K views    9 days ago  \n",
       "2  BIGGEST OFFER For Class - 8th ,9th & 10th Stud...   32K views    9 days ago  \n",
       "3  Launching PW प्रयोगशाला 2.0 🔥 || The Unbeatabl...   29K views   10 days ago  \n",
       "4  UDAAN Hindi Batch 🔥| Class 10th वालों के बच्चे...   13K views   10 days ago  "
      ]
     },
     "execution_count": 9,
     "metadata": {},
     "output_type": "execute_result"
    }
   ],
   "source": [
    "data=pandas.DataFrame({\"Video Url\":vedio_url,\"Video Thumbnail\":video_thumbnail,\"Video Titles\":vedio_title,\"Video Views\":video_views,\"Video Upload\":video_time})\n",
    "data"
   ]
  },
  {
   "cell_type": "code",
   "execution_count": 146,
   "metadata": {},
   "outputs": [],
   "source": [
    "data.to_csv(\"file.csv\")\n",
    "driver.quit()"
   ]
  },
  {
   "cell_type": "code",
   "execution_count": null,
   "metadata": {},
   "outputs": [],
   "source": []
  }
 ],
 "metadata": {
  "kernelspec": {
   "display_name": "Python 3",
   "language": "python",
   "name": "python3"
  },
  "language_info": {
   "codemirror_mode": {
    "name": "ipython",
    "version": 3
   },
   "file_extension": ".py",
   "mimetype": "text/x-python",
   "name": "python",
   "nbconvert_exporter": "python",
   "pygments_lexer": "ipython3",
   "version": "3.6.5"
  }
 },
 "nbformat": 4,
 "nbformat_minor": 2
}
