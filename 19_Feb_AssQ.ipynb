{
 "cells": [
  {
   "cell_type": "markdown",
   "id": "43266941-6d8d-4463-94c3-f92eacc9b6e9",
   "metadata": {},
   "source": [
    "### Q1. What is Flask Framework? What are the advantages of Flask Framework?"
   ]
  },
  {
   "cell_type": "markdown",
   "id": "c5c6aebc-804c-4340-a3e6-26aa35126c49",
   "metadata": {},
   "source": [
    "    Flask is a lightweight and flexible web framework for Python. It allows developers to build web applications quickly and easily by providing a simple yet powerful set of tools and features\n",
    "    Advantages of Flask Framework (in one line each):\n",
    "        1.Lightweight and minimalistic.\n",
    "        2.Easy to learn and use.\n",
    "        3.Flexible and customizable.\n",
    "        4.Extensible with various extensions.\n",
    "        5.Modular design for code organization."
   ]
  },
  {
   "cell_type": "markdown",
   "id": "962ff3c0-8b6a-48a8-b5b8-f10e30195d56",
   "metadata": {},
   "source": [
    "### Q2. Create a simple Flask application to display ‘Hello World!!’. Attach the screenshot of the output in Jupyter Notebook."
   ]
  },
  {
   "cell_type": "code",
   "execution_count": null,
   "id": "d4acffc7-f735-485c-913f-1457d53400a5",
   "metadata": {},
   "outputs": [],
   "source": [
    "# Cannot Import Screenshot showing format not supported\n",
    "from flask import Flask\n",
    "\n",
    "app = Flask(__name__)\n",
    "\n",
    "@app.route('/')\n",
    "def hello():\n",
    "    return 'Hello World!!'\n",
    "\n",
    "if __name__ == '__main__':\n",
    "    app.run(host=\"0.0.0.0\")"
   ]
  },
  {
   "cell_type": "markdown",
   "id": "9e3bbd5d-55ce-44f1-911f-826af2390397",
   "metadata": {},
   "source": [
    "### Q3. What is App routing in Flask? Why do we use app routes?"
   ]
  },
  {
   "cell_type": "markdown",
   "id": "4023b6ed-b88d-4ad0-941a-0216f368eddd",
   "metadata": {},
   "source": [
    "\tIn Flask, app routing refers to the process of mapping URL paths to specific functions or handlers in the Flask application. \n",
    "    \n",
    "    Why we use app routes:\n",
    "    \t1. Handle different URL requests and define corresponding actions.\n",
    "        2. Organize codebase and maintain a clear structure.\n",
    "        3. Enable building RESTful APIs.\n",
    "        4. Facilitate dynamic and controlled handling of requests."
   ]
  },
  {
   "cell_type": "markdown",
   "id": "b50b1d24-e6cc-41c0-a96c-3ddab62a78d7",
   "metadata": {},
   "source": [
    "### Q4. Create a “/welcome” route to display the welcome message “Welcome to ABC Corporation” and a “/” route to show the following details: Company Name: ABC Corporation Location: India Contact Detail: 999-999-9999"
   ]
  },
  {
   "cell_type": "code",
   "execution_count": null,
   "id": "462d7d48-c150-452d-b7de-f3166132636e",
   "metadata": {},
   "outputs": [],
   "source": [
    "from flask import Flask\n",
    "\n",
    "app = Flask(__name__)\n",
    "\n",
    "@app.route('/welcome')\n",
    "def welcome():\n",
    "    return 'Welcome to ABC Corporation'\n",
    "\n",
    "@app.route('/')\n",
    "def company_details():\n",
    "    return \"Company Name: ABC Corporation Location: India Contact Detail: 999-999-9999\"\n",
    "\n",
    "if __name__ == '__main__':\n",
    "    app.run(host=\"0.0.0.0\")"
   ]
  },
  {
   "cell_type": "markdown",
   "id": "a7142a2d-450d-4ad5-add5-346c6d2cf277",
   "metadata": {},
   "source": [
    "### Q5. What function is used in Flask for URL Building? Write a Python code to demonstrate the working of the url_for() function."
   ]
  },
  {
   "cell_type": "markdown",
   "id": "63a7931b-d236-41dc-bed9-58a1821e981c",
   "metadata": {},
   "source": [
    "\tIn Flask, the url_for() function is used for URL building. It generates a URL for the given endpoint, taking into account the routing rules defined in the application.\n",
    "    \n",
    "    "
   ]
  }
 ],
 "metadata": {
  "kernelspec": {
   "display_name": "Python 3 (ipykernel)",
   "language": "python",
   "name": "python3"
  },
  "language_info": {
   "codemirror_mode": {
    "name": "ipython",
    "version": 3
   },
   "file_extension": ".py",
   "mimetype": "text/x-python",
   "name": "python",
   "nbconvert_exporter": "python",
   "pygments_lexer": "ipython3",
   "version": "3.10.8"
  }
 },
 "nbformat": 4,
 "nbformat_minor": 5
}
