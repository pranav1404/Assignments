{
 "cells": [
  {
   "cell_type": "markdown",
   "id": "309e536e-b5eb-4981-aec4-ef6190af7354",
   "metadata": {},
   "source": [
    "### Q1. Explain GET and POST methods."
   ]
  },
  {
   "cell_type": "markdown",
   "id": "ee67405c-7ad1-4ffd-b951-601af70fc56c",
   "metadata": {},
   "source": [
    "    GET Method:\n",
    "        1.Used for retrieving or fetching data from a server.\n",
    "        2.Requests made with the GET method are typically read-only and do not modify any data on the server.\n",
    "        3.The parameters and data are appended to the URL as query parameters.\n",
    "        4.GET requests are often used to retrieve web pages, images, or any other type of resource from a server.\n",
    "\n",
    "    POST Method:\n",
    "        1.Used for submitting data to a server to create or update a resource.\n",
    "        2.POST requests send data in the request body rather than as query parameters in the URL.\n",
    "        3.POST requests can modify data on the server, create new resources, or trigger specific actions.\n",
    "        4.Typically used for form submissions, file uploads, or any request that modifies server data.\n"
   ]
  },
  {
   "cell_type": "markdown",
   "id": "615d3ded-0cac-4dbf-91de-47ac67c8d1c0",
   "metadata": {},
   "source": [
    "### Q2. Why is request used in Flask?"
   ]
  },
  {
   "cell_type": "markdown",
   "id": "28737dbb-0636-4eb1-811e-7e19d54f1faa",
   "metadata": {},
   "source": [
    "\tThe request object in Flask is used to access and handle incoming HTTP requests made to the Flask application. It provides useful methods and attributes to retrieve data from the request, such as query parameters, form data, headers, and more. The request object allows developers to interact with the client's request and extract relevant information from it."
   ]
  },
  {
   "cell_type": "markdown",
   "id": "fc413400-8f19-4811-804d-2c93c38cb78d",
   "metadata": {},
   "source": [
    "### Q3. Why is redirect() used in Flask?"
   ]
  },
  {
   "cell_type": "markdown",
   "id": "70b88b50-e38a-40b0-b685-243920c7407f",
   "metadata": {},
   "source": [
    "\tThe redirect() function in Flask is used to perform a redirect or a URL redirection. It allows the application to redirect the client's browser to a different URL, either within the same application or to an external URL."
   ]
  },
  {
   "cell_type": "markdown",
   "id": "6723248d-34c9-4ce6-b297-eccc5ef6fdf7",
   "metadata": {},
   "source": [
    "### Q4. What are templates in Flask? Why is the render_template() function used?"
   ]
  },
  {
   "cell_type": "markdown",
   "id": "24f5e8ff-2e3f-43f5-b978-7329952455f3",
   "metadata": {},
   "source": [
    "    The render_template() function is used in Flask to render and generate responses based on the provided template. It takes the name of the template file and any additional data as arguments. \n",
    "    \n",
    "    In Flask, templates are used to generate dynamic HTML pages or other types of responses that are returned to the client's browser. Templates provide a way to separate the presentation logic from the application logic, making it easier to manage and maintain the user interface of a web application."
   ]
  },
  {
   "cell_type": "markdown",
   "id": "3a343514-e979-4750-b4f1-11ac206ae3d6",
   "metadata": {},
   "source": [
    "### Q5. Create a simple API. Use Postman to test it. Attach the screenshot of the output in the Jupyter Notebook."
   ]
  },
  {
   "cell_type": "code",
   "execution_count": null,
   "id": "4ebe2754-eb70-470d-af84-2b28b3689591",
   "metadata": {},
   "outputs": [],
   "source": [
    "from flask import Flask, request, render_template, jsonify\n",
    "\n",
    "app = Flask(__name__)\n",
    "\n",
    "@app.route('/')\n",
    "def home_page():\n",
    "    return render_template('index.html')\n",
    "\n",
    "@app.route('/postman_action',methods=['POST'])\n",
    "def math_ops1():\n",
    "    if(request.method == 'POST'):\n",
    "        ops = request.json['operation']\n",
    "        num1 = int(request.json['num1'])\n",
    "        num2 = int(request.json['num2'])\n",
    "        if ops == 'add':\n",
    "            r = num1+num2\n",
    "            result = \"The sum of \" + str(num1) + 'and ' + str(num2) + \"is \" + str(r)\n",
    "        if ops == 'subtract':\n",
    "            r = num1-num2\n",
    "            result = \"The subtract of \" + str(num1) + 'and ' + str(num2) + \"is \" + str(r)\n",
    "        if ops == 'multiply':\n",
    "            r = num1*num2\n",
    "            result = \"The multiply of \" + str(num1) + 'and ' + str(num2) + \"is \" + str(r)\n",
    "        if ops == 'divide':\n",
    "            r = num1/num2\n",
    "            result = \"The divide of \" + str(num1) + 'and ' + str(num2) + \"is \" + str(r)\n",
    "            \n",
    "        return jsonify(result)\n",
    "\n",
    "\n",
    "if __name__==\"__main__\":\n",
    "    app.run(host=\"0.0.0.0\")\n"
   ]
  },
  {
   "cell_type": "markdown",
   "id": "ad7ee97b-15e2-4bd6-a342-f281084d6aff",
   "metadata": {},
   "source": [
    "\tCannot attach screenshot of this photo\n",
    "\tTested api of route /postman_action by using post method, and sending json data as {\"opearation\" : \"add\", \"num1\" : 1, \"num2\": 2}\n",
    "    \n",
    "    Output : \"The sum of 1and 2 is 3\""
   ]
  },
  {
   "cell_type": "code",
   "execution_count": null,
   "id": "3ea92936-4a44-41e9-94c7-fbd74840fde0",
   "metadata": {},
   "outputs": [],
   "source": []
  }
 ],
 "metadata": {
  "kernelspec": {
   "display_name": "Python 3 (ipykernel)",
   "language": "python",
   "name": "python3"
  },
  "language_info": {
   "codemirror_mode": {
    "name": "ipython",
    "version": 3
   },
   "file_extension": ".py",
   "mimetype": "text/x-python",
   "name": "python",
   "nbconvert_exporter": "python",
   "pygments_lexer": "ipython3",
   "version": "3.10.8"
  }
 },
 "nbformat": 4,
 "nbformat_minor": 5
}
