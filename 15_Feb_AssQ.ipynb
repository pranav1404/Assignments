{
 "cells": [
  {
   "cell_type": "markdown",
   "id": "6d7b6f01-bf7e-4ba2-bdf3-1a561350dfc7",
   "metadata": {},
   "source": [
    "### Q1. What is multiprocessing in python? Why is it useful?"
   ]
  },
  {
   "cell_type": "markdown",
   "id": "a963741c-3876-471c-b041-3169ba24f49e",
   "metadata": {},
   "source": [
    "    Multiprocessing in Python refers to the ability to run multiple processes concurrently, each with its own memory space, and take advantage of multiple CPU cores or processors. It is a form of parallel programming that allows you to execute multiple tasks simultaneously, speeding up the execution of CPU-bound tasks and improving overall performance.\n",
    "    \n",
    "    Here are a few reasons why multiprocessing in Python is useful:\n",
    "    \n",
    "    1.Executes multiple tasks or processes concurrently.\n",
    "    2.Utilizes multiple CPU cores or processors.\n",
    "    3.Speeds up execution of CPU-bound tasks.\n",
    "    4.Improves overall performance and efficiency.\n",
    "    5.Takes advantage of additional computational power.\n",
    "    6.Provides isolation and robustness."
   ]
  },
  {
   "cell_type": "markdown",
   "id": "023d0ba9-8b5c-40bc-a7de-84d9de801d54",
   "metadata": {},
   "source": [
    "### Q2. What are the differences between multiprocessing and multithreading?"
   ]
  },
  {
   "cell_type": "markdown",
   "id": "7ac6630f-8ac7-4a80-b1d5-fc579878a48c",
   "metadata": {},
   "source": [
    "    Multithreading:\n",
    "\n",
    "        1.Threads share the same memory space within a single process.\n",
    "        2.Concurrency is achieved within the same process.\n",
    "        3.Limited scalability due to the Global Interpreter Lock (GIL) in Python.\n",
    "        4.Requires synchronization mechanisms to manage shared data.\n",
    "        5.A crash or error in one thread can affect the entire process.\n",
    "        6.Suitable for I/O-bound tasks or managing multiple lightweight tasks.\n",
    "        7.Communication between threads is easier and faster.\n",
    "        8.Less overhead and lower memory usage compared to multiprocessing.\n",
    "        9.Python's GIL restricts true parallelism and limits CPU utilization.\n",
    "        10.Not suitable for taking advantage of multiple CPU cores.\n",
    "        \n",
    "    Multiprocessing:\n",
    "\n",
    "        1.Each process has its own separate memory space.\n",
    "        2.Parallelism is achieved by running multiple processes simultaneously.\n",
    "        3.Scalable and can utilize multiple CPU cores efficiently.\n",
    "        4.Provides inherent isolation between processes.\n",
    "        5.If one process crashes, it does not affect other processes.\n",
    "        6.Suitable for CPU-bound tasks and computationally intensive operations.\n",
    "        7.Communication between processes involves inter-process communication (IPC).\n",
    "        8.Higher overhead and increased memory usage due to separate memory spaces.\n",
    "        9.Achieves true parallelism and can fully utilize multiple CPU cores.\n",
    "        10.Efficiently utilizes multiple CPU cores for improved performance.    "
   ]
  },
  {
   "cell_type": "markdown",
   "id": "ee7030f7-db7f-4120-a4c1-13e816ef1942",
   "metadata": {},
   "source": [
    "### Q3. Write a python code to create a process using the multiprocessing module."
   ]
  },
  {
   "cell_type": "code",
   "execution_count": 2,
   "id": "09922b53-0852-46bc-b52d-775334325259",
   "metadata": {},
   "outputs": [
    {
     "name": "stdout",
     "output_type": "stream",
     "text": [
      "Worker process executing\n"
     ]
    }
   ],
   "source": [
    "import multiprocessing\n",
    "\n",
    "def worker():\n",
    "    print(\"Worker process executing\")\n",
    "\n",
    "if __name__ == '__main__':\n",
    "    process = multiprocessing.Process(target=worker)\n",
    "    process.start()\n",
    "    process.join()"
   ]
  },
  {
   "cell_type": "markdown",
   "id": "ed186016-32a1-4d90-afa8-767eb6620eac",
   "metadata": {},
   "source": [
    "### Q4. What is a multiprocessing pool in python? Why is it used?"
   ]
  },
  {
   "cell_type": "markdown",
   "id": "82ea697c-4151-4436-b4ca-45d8317d0abe",
   "metadata": {},
   "source": [
    "    In Python, a multiprocessing pool is a feature provided by the multiprocessing module that allows you to efficiently parallelize and distribute the execution of a function across multiple processes.\n",
    "    \n",
    "    A multiprocessing pool in Python is used for:\n",
    "\n",
    "    1.Parallel execution of multiple function calls by distributing them across multiple processes.\n",
    "    2.Efficient utilization of available CPU cores to improve performance.\n",
    "    3.Simplified management of worker processes, including creation and termination.\n",
    "    4.Automatic task distribution to evenly distribute the workload among processes.\n",
    "    5.Easy retrieval and handling of results from parallel function execution."
   ]
  },
  {
   "cell_type": "markdown",
   "id": "0060176b-fa3b-45e3-892d-0e8fad0aa1f4",
   "metadata": {},
   "source": [
    "### Q5. How can we create a pool of worker processes in python using the multiprocessing module?"
   ]
  },
  {
   "cell_type": "code",
   "execution_count": 7,
   "id": "1afa1c95-c918-439b-89c4-0cf0eed065ac",
   "metadata": {},
   "outputs": [
    {
     "name": "stdout",
     "output_type": "stream",
     "text": [
      "[2, 4, 6, 8, 10]\n"
     ]
    }
   ],
   "source": [
    "import multiprocessing\n",
    "\n",
    "def worker_function(number):\n",
    "    result = number * 2\n",
    "    return result\n",
    "\n",
    "if __name__ == '__main__':\n",
    "    with multiprocessing.Pool(processes=4) as pool:\n",
    "    \tresults = pool.map(worker_function, [1, 2, 3, 4, 5])    \n",
    "    \tprint(results)\n"
   ]
  },
  {
   "cell_type": "markdown",
   "id": "9767f272-9cce-4871-a395-f4af7aacee03",
   "metadata": {},
   "source": [
    "### Q6. Write a python program to create 4 processes, each process should print a different number using the multiprocessing module in python."
   ]
  },
  {
   "cell_type": "code",
   "execution_count": 11,
   "id": "3e4be794-c5a3-4908-9fe6-710e0f426dcc",
   "metadata": {},
   "outputs": [
    {
     "name": "stdout",
     "output_type": "stream",
     "text": [
      "Number : 1Number :\n",
      " 2\n",
      "Number : 3\n",
      "Number : 4\n"
     ]
    }
   ],
   "source": [
    "import multiprocessing\n",
    "\n",
    "def print_number(number):\n",
    "    print(\"Number :\", number)\n",
    "\n",
    "if __name__ == '__main__':\n",
    "    numbers = [1, 2, 3, 4]\n",
    "\n",
    "    processes = []\n",
    "    for number in numbers:\n",
    "        process = multiprocessing.Process(target=print_number, args=(number,))\n",
    "        processes.append(process)\n",
    "        process.start()\n",
    "\n",
    "    for process in processes:\n",
    "        process.join()\n"
   ]
  },
  {
   "cell_type": "code",
   "execution_count": null,
   "id": "4816610c-9e90-4bb8-9cdc-5233e6ab99fc",
   "metadata": {},
   "outputs": [],
   "source": []
  },
  {
   "cell_type": "code",
   "execution_count": null,
   "id": "de38ac4c-157c-4558-87b1-1db8b8528bc6",
   "metadata": {},
   "outputs": [],
   "source": []
  },
  {
   "cell_type": "code",
   "execution_count": null,
   "id": "13c16e46-b52b-4bba-9cc1-4e1ead97167c",
   "metadata": {},
   "outputs": [],
   "source": []
  }
 ],
 "metadata": {
  "kernelspec": {
   "display_name": "Python 3 (ipykernel)",
   "language": "python",
   "name": "python3"
  },
  "language_info": {
   "codemirror_mode": {
    "name": "ipython",
    "version": 3
   },
   "file_extension": ".py",
   "mimetype": "text/x-python",
   "name": "python",
   "nbconvert_exporter": "python",
   "pygments_lexer": "ipython3",
   "version": "3.10.8"
  }
 },
 "nbformat": 4,
 "nbformat_minor": 5
}
