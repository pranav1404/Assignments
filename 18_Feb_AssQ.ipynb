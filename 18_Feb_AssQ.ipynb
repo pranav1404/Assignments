{
 "cells": [
  {
   "attachments": {},
   "cell_type": "markdown",
   "id": "b9c1a9e2-3517-43c8-b4d7-1e9f9eaa4561",
   "metadata": {},
   "source": [
    "### Q1. What is an API? Give an example, where an API is used in real life.\n"
   ]
  },
  {
   "attachments": {},
   "cell_type": "markdown",
   "id": "37dafee7-3883-46fd-a956-ddc626ce1a22",
   "metadata": {},
   "source": [
    "    API stands for Application Programming Interface. It is a set of rules and protocols that allows different software applications to communicate and interact with each other. It defines the methods, data formats, and conventions that developers should follow when integrating their software with the API.\n",
    "\n",
    "\tExample: One real-life example of API usage is when you book a flight or hotel through a travel website. The travel website typically integrates with various airlines' and hotels' APIs to fetch information about available flights, hotel rooms, prices, and make bookings on your behalf. The website communicates with these APIs to retrieve data and perform actions, providing you with a seamless booking experience without having to visit each airline or hotel's website individually."
   ]
  },
  {
   "attachments": {},
   "cell_type": "markdown",
   "id": "c81f4ecf-4513-40c8-ae38-4d1a8e2549b9",
   "metadata": {},
   "source": [
    "### Q2. Give advantages and disadvantages of using API.\n"
   ]
  },
  {
   "attachments": {},
   "cell_type": "markdown",
   "id": "40fd2e2e-0d2c-446c-85ad-5700c8765ce7",
   "metadata": {},
   "source": [
    "\tAdvantages of using APIs:\n",
    "        1.Modularity\n",
    "        2.Efficiency\n",
    "        3.Flexibility\n",
    "        4.Scalability\n",
    "        5.Collaboration\n",
    "\n",
    "    Disadvantages of using APIs:\n",
    "        1.Dependency\n",
    "        2.Versioning\n",
    "        3.Security\n",
    "        4.Performance\n",
    "        5.Learning curve"
   ]
  },
  {
   "attachments": {},
   "cell_type": "markdown",
   "id": "67ed479f-0fcd-407e-b844-5c33eb067d14",
   "metadata": {},
   "source": [
    "### Q3. What is a Web API? Differentiate between API and Web API.\n"
   ]
  },
  {
   "attachments": {},
   "cell_type": "markdown",
   "id": "a6c08548-446b-4d70-aa14-cacaba61ad7b",
   "metadata": {},
   "source": [
    "    A Web API, or Web Application Programming Interface, is a type of API that specifically allows communication and interaction between different software applications over the internet using the HTTP protocol. \n",
    "    \n",
    "    1.Communication Protocol: A key difference between API and Web API is the underlying communication protocol used. API can use various protocols such as HTTP, TCP/IP, or even direct function calls, while Web API specifically utilizes the HTTP protocol for communication over the web.\n",
    "\n",
    "\t2.Web Technologies: Web APIs are built using web technologies like HTTP, REST, JSON, and XML, which are well-suited for web-based communication. In contrast, APIs can be implemented using a wider range of technologies, including protocols and libraries that are not necessarily specific to the web"
   ]
  },
  {
   "attachments": {},
   "cell_type": "markdown",
   "id": "6f9a373d-d4a1-4b16-86c7-00fd923ec549",
   "metadata": {},
   "source": [
    "### Q4. Explain REST and SOAP Architecture. Mention shortcomings of SOAP."
   ]
  },
  {
   "attachments": {},
   "cell_type": "markdown",
   "id": "cc35ea43-9457-4464-9ff5-393aa2459966",
   "metadata": {},
   "source": [
    "    REST (Representational State Transfer):\n",
    "\t\t1.Architecture based on standard HTTP methods and URLs for resource manipulation.\n",
    "\t\t2.Stateless communication without server-side session management.\n",
    "        \n",
    "\tSOAP (Simple Object Access Protocol):\n",
    "        1.Protocol for exchanging structured information in web services.\n",
    "        2.Uses XML for message format and can work over various protocols (HTTP, SMTP, etc.).\n",
    "        3.More complex and heavyweight compared to REST.\n",
    "        4.SOAP has more rigid standards and requires additional processing for parsing XML messages\n",
    "        \n",
    "    Shortcomings of SOAP:\n",
    "        1.Complexity\n",
    "        2.Overhead\n",
    "        3.Limited language support\n",
    "        4.Performance"
   ]
  },
  {
   "attachments": {},
   "cell_type": "markdown",
   "id": "210e1f4c-d9be-4708-a303-150d4f5032db",
   "metadata": {},
   "source": [
    "### Q5. Differentiate between REST and SOAP."
   ]
  },
  {
   "cell_type": "code",
   "execution_count": null,
   "id": "8b32ed74-72ef-4d9f-b08b-6f746c4beafc",
   "metadata": {},
   "outputs": [],
   "source": [
    "Factor             REST                                      SOAP\n",
    "Protocol           Uses lightweight protocols like HTTP      Can work with various protocols (HTTP, SMTP, etc.)\n",
    "Message Format     Typically uses JSON or XML                Uses XML for message format\n",
    "Communication      Stateless communication                   Supports both stateful and stateless communication\n",
    "Flexibility        Flexible and can work with different data formats  Rigid and typically uses XML\n",
    "Performance        Lightweight and faster performance        Slower performance due to XML processing\n",
    "Caching            Supports caching for improved performance Limited support for caching\n",
    "Security           Can utilize various security mechanisms   Supports WS-Security and other specific security standards\n",
    "Standards          No strict standards or specifications     Follows specific SOAP standards and specifications\n"
   ]
  }
 ],
 "metadata": {
  "kernelspec": {
   "display_name": "Python 3 (ipykernel)",
   "language": "python",
   "name": "python3"
  },
  "language_info": {
   "codemirror_mode": {
    "name": "ipython",
    "version": 3
   },
   "file_extension": ".py",
   "mimetype": "text/x-python",
   "name": "python",
   "nbconvert_exporter": "python",
   "pygments_lexer": "ipython3",
   "version": "3.10.8"
  }
 },
 "nbformat": 4,
 "nbformat_minor": 5
}
