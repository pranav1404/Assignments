{
 "cells": [
  {
   "cell_type": "markdown",
   "id": "a474f0f7-d905-4bad-b725-8c6cec544176",
   "metadata": {},
   "source": [
    "### Q1. What are the characteristics of the tuples? Is tuple immutable?"
   ]
  },
  {
   "cell_type": "markdown",
   "id": "2776a08c-8ec9-47ce-951b-7ffd274dafb6",
   "metadata": {},
   "source": [
    "\tCharecteristics of Tuples:\n",
    "\n",
    "\t1. Immutable: Tuples are immutable, meaning their elements cannot be changed once they are assigned. \n",
    "       This makes tuples suitable for representing fixed collections of items.\n",
    "\t2. Heterogeneous: Tuples can contain elements of different data types.\n",
    "\t3. Indexed: Elements in a tuple can be accessed using indexing. \n",
    "   \tIndexing starts from 0 for the first element and allows accessing individual elements or a range of elements within the tuple.\n",
    "\t4. Iterable: Tuples can be iterated over using loops or comprehensions. \n",
    "       This allows for easy traversal and processing of the elements in a tuple.\n",
    "\t5. Hashable: Tuples are hashable, which means they can be used as keys in dictionaries and elements in sets. \n",
    "       This property is due to their immutability."
   ]
  },
  {
   "cell_type": "markdown",
   "id": "fc984f75-3f6b-41d2-b70a-dd1f902cad77",
   "metadata": {},
   "source": [
    "### Q2. What are the two tuple methods in python? Give an example of each method. Give a reason why tuples have only two in- built methods as compared to Lists."
   ]
  },
  {
   "cell_type": "markdown",
   "id": "f4f49378-030a-461d-9524-76bca01ddf24",
   "metadata": {},
   "source": [
    "\tIn Python, tuples have two built-in methods:\n",
    "\n",
    "\t1. count(): The count() method returns the number of occurrences of a specified value in a tuple. \n",
    "\n",
    "\t2. index(): The index() method returns the index of the first occurrence of a specified value in a tuple.\n",
    "            \n",
    "    Tuples have only these two built-in methods compared to lists for a specific reason:\n",
    "\tTuples are designed to be immutable, meaning they cannot be modified once created. \n",
    "    The limited number of methods available for tuples reflects this immutability."
   ]
  },
  {
   "cell_type": "code",
   "execution_count": 20,
   "id": "006424fc-1140-4563-b2ed-14b42b2bbd5c",
   "metadata": {},
   "outputs": [
    {
     "name": "stdout",
     "output_type": "stream",
     "text": [
      "3\n",
      "1\n"
     ]
    }
   ],
   "source": [
    "my_tuple = (1, 2, 3, 2, 4, 2)\n",
    "count = my_tuple.count(2)\n",
    "print(count) \n",
    "\n",
    "my_tuple = ('apple', 'banana', 'orange', 'banana')\n",
    "index = my_tuple.index('banana')\n",
    "print(index)"
   ]
  },
  {
   "cell_type": "markdown",
   "id": "6160640a-0e63-42e2-8d61-110108dc05eb",
   "metadata": {},
   "source": [
    "### Q3. Which collection datatypes in python do not allow duplicate items? Write a code using a set to remove duplicates from the given list."
   ]
  },
  {
   "cell_type": "markdown",
   "id": "5cd736ce-ddd6-45fd-9c31-251927a5c492",
   "metadata": {},
   "source": [
    "\tIn Python, the collection datatype that does not allow duplicate items is a set."
   ]
  },
  {
   "cell_type": "code",
   "execution_count": 19,
   "id": "0992cc61-aefb-4c42-b440-054677bc7d4f",
   "metadata": {},
   "outputs": [
    {
     "name": "stdout",
     "output_type": "stream",
     "text": [
      "[1, 2, 3, 4]\n"
     ]
    }
   ],
   "source": [
    "my_list = List = [1, 1, 1, 2, 1, 3, 1, 4, 2, 1, 2, 2, 2, 3, 2, 4, 3, 1, 3, 2, 3, 3, 3, 4, 4, 1, 4, 2, 4, 3, 4, 4]\n",
    "unique_elements = set(my_list)\n",
    "result = list(unique_elements)\n",
    "\n",
    "print(result)"
   ]
  },
  {
   "cell_type": "markdown",
   "id": "eb084c96-376b-4d09-8e8c-cf514f15f43d",
   "metadata": {},
   "source": [
    "### Q4. Explain the difference between the union() and update() methods for a set. Give an example of each method."
   ]
  },
  {
   "cell_type": "markdown",
   "id": "cf1fb564-e251-430e-9d6b-33183996578f",
   "metadata": {},
   "source": [
    "    1. union():  returns a new set without modifying the original sets. \n",
    "           "
   ]
  },
  {
   "cell_type": "code",
   "execution_count": 17,
   "id": "32ca9b14-31c1-4f23-8828-8402ec101db6",
   "metadata": {},
   "outputs": [
    {
     "name": "stdout",
     "output_type": "stream",
     "text": [
      "{1, 2, 3, 4, 5}\n"
     ]
    }
   ],
   "source": [
    "set1 = {1, 2, 3}\n",
    "set2 = {3, 4, 5}\n",
    "union_set = set1.union(set2)\n",
    "\n",
    "print(union_set)"
   ]
  },
  {
   "cell_type": "markdown",
   "id": "b52752b2-a840-453a-8d50-f8e093337a25",
   "metadata": {},
   "source": [
    "\t2. update():  modifies the original set by adding elements from other sets."
   ]
  },
  {
   "cell_type": "code",
   "execution_count": 18,
   "id": "a3e00c00-dd10-4ec5-9ef5-d7f733bd6cfd",
   "metadata": {},
   "outputs": [
    {
     "name": "stdout",
     "output_type": "stream",
     "text": [
      "{1, 2, 3, 4, 5}\n"
     ]
    }
   ],
   "source": [
    "set1 = {1, 2, 3}\n",
    "set2 = {3, 4, 5}\n",
    "set1.update(set2)\n",
    "\n",
    "print(set1)  "
   ]
  },
  {
   "cell_type": "markdown",
   "id": "fd8364e2-c764-4150-afd0-7312eebc390c",
   "metadata": {},
   "source": [
    "### Q5. What is a dictionary? Give an example. Also, state whether a dictionary is ordered or unordered."
   ]
  },
  {
   "cell_type": "markdown",
   "id": "613051f8-7c95-4ed8-855c-92f0595a0030",
   "metadata": {},
   "source": [
    "\tA dictionary is a data structure that stores a collection of key-value pairs. It is often referred to as an associative array, map, or hash map in other programming languages.\n",
    "\n",
    "    A dictionary is an unordered data structure, meaning that the order of the key-value pairs is not preserved.\n",
    "    When you iterate over the items in a dictionary or access a specific item by its key, you cannot rely on a specific order\n"
   ]
  },
  {
   "cell_type": "code",
   "execution_count": 14,
   "id": "62e023f7-d98b-4a52-a9d2-b1197fe4c73a",
   "metadata": {},
   "outputs": [
    {
     "name": "stdout",
     "output_type": "stream",
     "text": [
      "{'John': 85, 'Emily': 92, 'Michael': 78, 'Sophia': 95}\n"
     ]
    }
   ],
   "source": [
    "student_scores = {\"John\": 85, \"Emily\": 92, \"Michael\": 78, \"Sophia\": 95}\n",
    "print(student_scores)"
   ]
  },
  {
   "cell_type": "markdown",
   "id": "753b4947-8d65-4a78-85eb-c1433568e64a",
   "metadata": {},
   "source": [
    "### Q6. Can we create a nested dictionary? If so, please give an example by creating a simple one-level nested dictionary."
   ]
  },
  {
   "cell_type": "markdown",
   "id": "aad5b5c2-7a65-4a74-b251-4fac9c23d295",
   "metadata": {},
   "source": [
    "\tYes, We Can create a nested dictionary."
   ]
  },
  {
   "cell_type": "code",
   "execution_count": 13,
   "id": "87e0dfde-67c5-4556-adb0-73d7a2544af3",
   "metadata": {},
   "outputs": [
    {
     "name": "stdout",
     "output_type": "stream",
     "text": [
      "{'John': {'age': 18, 'grade': 'A', 'city': 'New York'}, 'Emily': {'age': 17, 'grade': 'B', 'city': 'London'}, 'Michael': {'age': 16, 'grade': 'A+', 'city': 'Paris'}}\n"
     ]
    }
   ],
   "source": [
    "student_records = {\n",
    "    \"John\": {\n",
    "        \"age\": 18,\n",
    "        \"grade\": \"A\",\n",
    "        \"city\": \"New York\"\n",
    "    },\n",
    "    \"Emily\": {\n",
    "        \"age\": 17,\n",
    "        \"grade\": \"B\",\n",
    "        \"city\": \"London\"\n",
    "    },\n",
    "    \"Michael\": {\n",
    "        \"age\": 16,\n",
    "        \"grade\": \"A+\",\n",
    "        \"city\": \"Paris\"\n",
    "    }\n",
    "}\n",
    "\n",
    "print(student_records)"
   ]
  },
  {
   "cell_type": "markdown",
   "id": "3079081c-ff10-4f19-a306-e38f94bdcb73",
   "metadata": {},
   "source": [
    "### Q7. Using setdefault() method, create key named topics in the given dictionary and also add the value of the key as this list ['Python', 'Machine Learning’, 'Deep Learning'] dict1 = {'language' : 'Python', 'course': 'Data Science Masters'}"
   ]
  },
  {
   "cell_type": "code",
   "execution_count": 12,
   "id": "e473c9ba-4a8a-4c41-a639-cdc1075dbbe6",
   "metadata": {},
   "outputs": [
    {
     "name": "stdout",
     "output_type": "stream",
     "text": [
      "{'language': 'Python', 'course': 'Data Science Masters', 'topics': ['Python', 'Machine Learning', 'Deep Learning']}\n"
     ]
    }
   ],
   "source": [
    "dict1 = {'language' : 'Python', 'course': 'Data Science Masters'}\n",
    "dict1.setdefault(\"topics\", ['Python', 'Machine Learning', 'Deep Learning'])\n",
    "print(dict1) "
   ]
  },
  {
   "cell_type": "markdown",
   "id": "509be409-53b5-419f-bf9c-fdd230cd62e9",
   "metadata": {},
   "source": [
    "\tIn the above code, setdefault() is used to check if the key \"topics\" already exists in the dictionary dict1. If the key does not exist, setdefault() creates the key and assigns it the specified default value, in this case, ['Python', 'Machine Learning', 'Deep Learning']. If the key already exists, setdefault() returns its value without modifying it."
   ]
  },
  {
   "cell_type": "markdown",
   "id": "7c18b685-a7c3-40b2-9873-6a9a4da6cc51",
   "metadata": {},
   "source": [
    "### Q8. What are the three view objects in dictionaries? Use the three in-built methods in python to displaythese three view objects for the given dictionary. dict1 = {'Sport': 'Cricket' , 'Teams': ['India', 'Australia', 'England', 'South Africa', 'Sri Lanka', 'New Zealand']}"
   ]
  },
  {
   "cell_type": "markdown",
   "id": "7c5739cd-b562-4b2b-a708-54e71314d8ea",
   "metadata": {},
   "source": [
    "\tIn Python, dictionaries provide three built-in methods that return view objects:\n",
    "\n",
    "\t\t1. keys() - This method returns a view object that contains all the keys of the dictionary.\n",
    "\t\t2. values() - This method returns a view object that contains all the values of the dictionary.\n",
    "\t\t3. items() - This method returns a view object that contains all the key-value pairs of the dictionary as tuples."
   ]
  },
  {
   "cell_type": "code",
   "execution_count": 10,
   "id": "1c9950f8-a4cd-4072-97c0-933bc2e64d56",
   "metadata": {},
   "outputs": [
    {
     "name": "stdout",
     "output_type": "stream",
     "text": [
      "Keys View: dict_keys(['Sport', 'Teams'])\n",
      "Values View: dict_values(['Cricket', ['India', 'Australia', 'England', 'South Africa', 'Sri Lanka', 'New Zealand']])\n",
      "Items View: dict_items([('Sport', 'Cricket'), ('Teams', ['India', 'Australia', 'England', 'South Africa', 'Sri Lanka', 'New Zealand'])])\n"
     ]
    }
   ],
   "source": [
    "dict1 = {'Sport': 'Cricket', 'Teams': ['India', 'Australia', 'England', 'South Africa', 'Sri Lanka', 'New Zealand']}\n",
    "\n",
    "# Getting the view objects using the built-in methods\n",
    "keys_view = dict1.keys()\n",
    "values_view = dict1.values()\n",
    "items_view = dict1.items()\n",
    "\n",
    "# Displaying the view objects\n",
    "print(\"Keys View:\", keys_view)\n",
    "print(\"Values View:\", values_view)\n",
    "print(\"Items View:\", items_view)"
   ]
  }
 ],
 "metadata": {
  "kernelspec": {
   "display_name": "Python 3 (ipykernel)",
   "language": "python",
   "name": "python3"
  },
  "language_info": {
   "codemirror_mode": {
    "name": "ipython",
    "version": 3
   },
   "file_extension": ".py",
   "mimetype": "text/x-python",
   "name": "python",
   "nbconvert_exporter": "python",
   "pygments_lexer": "ipython3",
   "version": "3.10.8"
  }
 },
 "nbformat": 4,
 "nbformat_minor": 5
}
