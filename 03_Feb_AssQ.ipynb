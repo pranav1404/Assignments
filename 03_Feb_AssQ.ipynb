{
 "cells": [
  {
   "cell_type": "markdown",
   "id": "7b51f126-ef9d-489c-9ebb-29221ef385f0",
   "metadata": {
    "tags": []
   },
   "source": [
    "### Q1. Which keyword is used to create a function? Create a function to return a list of odd numbers in the range of 1 to 25."
   ]
  },
  {
   "cell_type": "markdown",
   "id": "86ffb8d9-bf34-406f-aeb8-892e738ae183",
   "metadata": {},
   "source": [
    "\tThe keyword used to create a function in Python is def. "
   ]
  },
  {
   "cell_type": "code",
   "execution_count": 16,
   "id": "5c109ada-c01e-42f5-ba8c-af6aedf793dd",
   "metadata": {},
   "outputs": [
    {
     "data": {
      "text/plain": [
       "[1, 3, 5, 7, 9, 11, 13, 15, 17, 19, 21, 23, 25]"
      ]
     },
     "execution_count": 16,
     "metadata": {},
     "output_type": "execute_result"
    }
   ],
   "source": [
    "def odd_numbers():\n",
    "    odd = []\n",
    "    for i in range(1, 26):\n",
    "        if i & 1:\n",
    "            odd.append(i)\n",
    "    return odd\n",
    "\n",
    "odd_numbers()"
   ]
  },
  {
   "cell_type": "markdown",
   "id": "8f2cbea6-cea3-4006-adae-8271d3f37a11",
   "metadata": {
    "tags": []
   },
   "source": [
    "### Q2. Why *args and **kwargs is used in some functions? Create a function each for *args and **kwargs to demonstrate their use."
   ]
  },
  {
   "cell_type": "markdown",
   "id": "1a14ddbd-099d-4f6e-a31a-a9cda54bced7",
   "metadata": {},
   "source": [
    "    The *args parameter allows a function to accept a variable number of positional arguments."
   ]
  },
  {
   "cell_type": "code",
   "execution_count": 15,
   "id": "6478d422-8531-4e13-8f97-2549d211adb1",
   "metadata": {},
   "outputs": [
    {
     "name": "stdout",
     "output_type": "stream",
     "text": [
      "6\n",
      "15\n"
     ]
    }
   ],
   "source": [
    "def sum_numbers(*args):\n",
    "    total = 0\n",
    "    for num in args:\n",
    "        total += num\n",
    "    return total\n",
    "\n",
    "print(sum_numbers(1,2,3))\n",
    "print(sum_numbers(1,2,3,4,5))"
   ]
  },
  {
   "cell_type": "markdown",
   "id": "3a3304c1-c226-4d13-98ce-93c378a35c38",
   "metadata": {},
   "source": [
    "    The **kwargs parameter allows a function to accept a variable number of keyword arguments."
   ]
  },
  {
   "cell_type": "code",
   "execution_count": 17,
   "id": "bbfce05c-75dd-4f97-b1e9-f94bcf3de1ec",
   "metadata": {},
   "outputs": [
    {
     "name": "stdout",
     "output_type": "stream",
     "text": [
      "{'a': 1, 'b': [2, 3], 'c': 'Sudh'}\n"
     ]
    }
   ],
   "source": [
    "def dictionary(**kwargs):\n",
    "    return kwargs\n",
    "    \n",
    "print(dictionary(a = 1, b = [2, 3], c = \"Sudh\"))    "
   ]
  },
  {
   "attachments": {},
   "cell_type": "markdown",
   "id": "7d03e7ee-dc17-4123-8172-7d2ba3e7898b",
   "metadata": {
    "tags": []
   },
   "source": [
    "### Q3. What is an iterator in python? Name the method used to initialise the iterator object and the method used for iteration. Use these methods to print the first five elements of the given list [2, 4, 6, 8, 10, 12, 14, 16, 18, 20]."
   ]
  },
  {
   "cell_type": "markdown",
   "id": "2c223085-6b1e-4e3d-9562-8e03401c9144",
   "metadata": {},
   "source": [
    "    In Python, an iterator is an object that represents a stream of data and implements the iterator protocol. It provides a way to access the elements of a collection or stream one at a time, without the need to store the entire collection in memory."
   ]
  },
  {
   "cell_type": "code",
   "execution_count": 11,
   "id": "755e75b5-164b-48cd-a1d9-b6276f94326a",
   "metadata": {},
   "outputs": [
    {
     "name": "stdout",
     "output_type": "stream",
     "text": [
      "2\n",
      "4\n",
      "6\n",
      "8\n",
      "10\n"
     ]
    }
   ],
   "source": [
    "my_list = [2, 4, 6, 8, 10, 12, 14, 16, 18, 20]\n",
    "\n",
    "my_iterator = iter(my_list)\n",
    "\n",
    "count = 1;\n",
    "for i in my_iterator:\n",
    "    print(i)\n",
    "    count += 1;\n",
    "    if(count > 5): break"
   ]
  },
  {
   "cell_type": "markdown",
   "id": "b11f73a6-7e1f-484d-a4ee-11ff3a844c4f",
   "metadata": {
    "jp-MarkdownHeadingCollapsed": true,
    "tags": []
   },
   "source": [
    "### Q4. What is a generator function in python? Why yield keyword is used? Give an example of a generator function."
   ]
  },
  {
   "cell_type": "markdown",
   "id": "e337aef4-3b45-4d84-ad9c-ddcc45a43070",
   "metadata": {},
   "source": [
    "    In Python, a generator function is a special type of function that generates a sequence of values using the yield keyword instead of returning a single value with the return statement. When a generator function is called, it returns an iterator object that can be iterated over to retrieve the values one at a time, without storing the entire sequence in memory.\n",
    "    \n",
    "    The yield keyword is used in generator functions to define points where the function should temporarily pause its execution and yield a value to the caller."
   ]
  },
  {
   "cell_type": "code",
   "execution_count": 12,
   "id": "9ef5e14c-94f4-43fc-a250-1fc4955afd90",
   "metadata": {},
   "outputs": [
    {
     "name": "stdout",
     "output_type": "stream",
     "text": [
      "0\n",
      "2\n",
      "4\n",
      "6\n",
      "8\n",
      "10\n"
     ]
    }
   ],
   "source": [
    "def even(n):\n",
    "    for i in range(n + 1):\n",
    "        if i % 2 == 0:\n",
    "            yield i\n",
    "            \n",
    "generator = even(10)\n",
    "\n",
    "for i in generator:\n",
    "    print(i)"
   ]
  },
  {
   "cell_type": "markdown",
   "id": "55fd965c-6321-4234-bd3a-20a5eb9f7ddd",
   "metadata": {
    "tags": []
   },
   "source": [
    "### Q5. Create a generator function for prime numbers less than 1000. Use the next() method to print the first 20 prime numbers."
   ]
  },
  {
   "cell_type": "code",
   "execution_count": 13,
   "id": "529bf27c-6d7a-4154-9ff2-2bc76b7ea954",
   "metadata": {},
   "outputs": [
    {
     "name": "stdout",
     "output_type": "stream",
     "text": [
      "2\n",
      "3\n",
      "5\n",
      "7\n",
      "11\n",
      "13\n",
      "17\n",
      "19\n",
      "23\n",
      "29\n",
      "31\n",
      "37\n",
      "41\n",
      "43\n",
      "47\n",
      "53\n",
      "59\n",
      "61\n",
      "67\n",
      "71\n"
     ]
    }
   ],
   "source": [
    "def prime_generator():\n",
    "    yield 2\n",
    "\n",
    "    current_number = 3\n",
    "\n",
    "    while current_number < 1000:\n",
    "        is_prime = True\n",
    "\n",
    "        for prime in prime_generator():\n",
    "            if prime * prime > current_number:\n",
    "                break\n",
    "            if current_number % prime == 0:\n",
    "                is_prime = False\n",
    "                break\n",
    "\n",
    "        if is_prime:\n",
    "            yield current_number\n",
    "\n",
    "        current_number += 2\n",
    "\n",
    "\n",
    "generator = prime_generator()\n",
    "\n",
    "for _ in range(20):\n",
    "    prime_number = next(generator)\n",
    "    print(prime_number)\n",
    "\n",
    "        "
   ]
  },
  {
   "cell_type": "code",
   "execution_count": null,
   "id": "69d09228-2aa8-4219-8021-a14233d1abf0",
   "metadata": {},
   "outputs": [],
   "source": []
  }
 ],
 "metadata": {
  "kernelspec": {
   "display_name": "Python 3 (ipykernel)",
   "language": "python",
   "name": "python3"
  },
  "language_info": {
   "codemirror_mode": {
    "name": "ipython",
    "version": 3
   },
   "file_extension": ".py",
   "mimetype": "text/x-python",
   "name": "python",
   "nbconvert_exporter": "python",
   "pygments_lexer": "ipython3",
   "version": "3.11.2"
  }
 },
 "nbformat": 4,
 "nbformat_minor": 5
}
